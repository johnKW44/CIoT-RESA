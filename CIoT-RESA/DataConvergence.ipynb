import numpy as np
import matplotlib.pyplot as plt

# Industry categories
industries = ["Healthcare", "Manufacturing", "Finance", "Energy"]

# Simulated breach frequencies before adjustment
simulated_before = np.array([45, 60, 30, 50])

# Real-world observed breach frequencies
real_world = np.array([40, 55, 28, 47])

# Adjusted simulation values after fine-tuning
simulated_after = np.array([41, 54, 29, 46])

# X-axis positions
x_positions = np.arange(len(industries))
bar_width = 0.25  # Width of bars

# Create bar graph
plt.figure(figsize=(8, 5))

# Plot bars
plt.bar(x_positions - bar_width, simulated_before, width=bar_width, color='red', label='Before Adjustment')
plt.bar(x_positions, real_world, width=bar_width, color='blue', label='Real-World Data')
plt.bar(x_positions + bar_width, simulated_after, width=bar_width, color='green', label='After Adjustment')

# Labels and formatting
plt.xticks(x_positions, industries)
plt.xlabel("Industries")
plt.ylabel("Breach Frequency (per month)")
plt.title("Data Convergence: Simulated vs. Real-World Breaches")
plt.legend()
plt.grid(axis='y', linestyle="--", alpha=0.6)

# Show the plot
plt.show()
