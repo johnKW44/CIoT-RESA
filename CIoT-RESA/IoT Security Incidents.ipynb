import pandas as pd
import numpy as np
import matplotlib.pyplot as plt


# If the file is in your Google Drive (optional usage):
file_path = '/content/drive/MyDrive/Praxis Code File/IoT Security Incidents.ipynb'

# Define industries and time range
industries = ["Finance", "Healthcare", "Retail", "Education", "Manufacturing"]
time_range = pd.date_range(start="2020-01-01", end="2023-12-31", freq='M')

# Function to simulate IoT security incidents
def simulate_iot_security_incidents():
    data = []
    for industry in industries:
        for date in time_range:
            # Simulate number of incidents with a random Poisson distribution
            # Average number of incidents varies per industry
            if industry == "Finance":
                incidents = np.random.poisson(5)
            elif industry == "Healthcare":
                incidents = np.random.poisson(7)
            elif industry == "Retail":
                incidents = np.random.poisson(6)
            elif industry == "Education":
                incidents = np.random.poisson(4)
            elif industry == "Manufacturing":
                incidents = np.random.poisson(8)

             # Simulate attack type
            attack = np.random.choice(['Denial of Service', 'Malware', 'Phishing', 'Ransomware']) # Changed 'Type of Cyber Attack' to a list of attack types

            data.append({"Date": date, "Industry": industry, "Incidents": incidents, "Attack Type": attack}) # Added "Attack Type" to the dictionary
    return pd.DataFrame(data)

# Simulate the data
iot_incidents_df = simulate_iot_security_incidents()

# Analyze incidence rates over time
incident_summary = iot_incidents_df.groupby(["Industry", pd.Grouper(key='Date', freq='Y')])["Incidents"].sum().reset_index()

# Identify trends and vulnerabilities by plotting the data
plt.figure(figsize=(14, 8))
for industry in industries:
    industry_data = incident_summary[incident_summary["Industry"] == industry]
    plt.plot(industry_data["Date"], industry_data["Incidents"], label=industry)

plt.xlabel("Year")
plt.ylabel("Number of IoT Security Incidents")
plt.title("IoT Security Incidents Trends by Industry (2020-2023)")
plt.legend(title="Industry")
plt.grid(True)
plt.show()

# Display the DataFrame with the simulated IoT security incidents data
print("Simulated IoT Security Incidents Data:")
print(iot_incidents_df)

# Create a pie chart for total incidents by industry
total_incidents_by_industry = iot_incidents_df.groupby("Industry")["Incidents"].sum()

plt.figure(figsize=(8, 8))
plt.pie(total_incidents_by_industry, labels=total_incidents_by_industry.index, autopct='%1.1f%%', startangle=90)
plt.title("Total IoT Security Incidents by Industry (2020-2023)")
plt.show()

# Analyze which attack type affected each industry the most
industry_attack_summary = iot_incidents_df.groupby(["Industry", "Attack Type"])["Incidents"].sum().reset_index() # Changed "Type of Cyber Attack" to "Attack Type"

# Find the most frequent attack type for each industry
most_frequent_attack_per_industry = industry_attack_summary.loc[industry_attack_summary.groupby("Industry")["Incidents"].idxmax()]

# Display the most frequent attack type per industry
# tools.display_dataframe_to_user(name="Most Frequent Attack Type per Industry", dataframe=most_frequent_attack_per_industry) # Assuming tools.display_dataframe_to_user is a custom function - comment out if not available

print(most_frequent_attack_per_industry)

# Display a pie chart showing which attack affected
